{
 "cells": [
  {
   "cell_type": "markdown",
   "metadata": {},
   "source": [
    "# Cleaning up a mistake\n",
    "\n",
    "I accidentally left the raw html saved in my previous dataframe! I definitely don't want to carry all that data forward, so I'll drop it."
   ]
  },
  {
   "cell_type": "code",
   "execution_count": 1,
   "metadata": {},
   "outputs": [],
   "source": [
    "import pandas as pd\n",
    "from tqdm import tqdm_notebook\n",
    "data_dir = \"../data/2018-08-10_AV_Innoplexus/\"\n",
    "html_data = pd.read_csv(data_dir+'html_data.csv',iterator=True, chunksize=1000)\n",
    "sample_submission = pd.read_csv(data_dir+\"sample_submission.csv\",iterator=True, chunksize=1000)\n",
    "train_df = pd.read_csv(data_dir+'train_with_tokens.csv',iterator=True,chunksize=5000)\n",
    "test_df = pd.read_csv(data_dir+'test.csv')"
   ]
  },
  {
   "cell_type": "code",
   "execution_count": 2,
   "metadata": {},
   "outputs": [
    {
     "name": "stdout",
     "output_type": "stream",
     "text": [
      "5000\n",
      "10000\n",
      "15000\n",
      "20000\n",
      "25000\n",
      "30000\n",
      "35000\n",
      "40000\n",
      "45000\n",
      "50000\n",
      "53447\n"
     ]
    }
   ],
   "source": [
    "train_df_no_html = pd.DataFrame()\n",
    "\n",
    "for chunk in train_df:\n",
    "    chunk_no_html = chunk.drop('Html',axis=1)\n",
    "    train_df_no_html = pd.concat([train_df_no_html,chunk_no_html],ignore_index=True)\n",
    "    print(train_df_no_html.shape[0])"
   ]
  },
  {
   "cell_type": "code",
   "execution_count": 3,
   "metadata": {},
   "outputs": [
    {
     "data": {
      "text/html": [
       "<div>\n",
       "<style scoped>\n",
       "    .dataframe tbody tr th:only-of-type {\n",
       "        vertical-align: middle;\n",
       "    }\n",
       "\n",
       "    .dataframe tbody tr th {\n",
       "        vertical-align: top;\n",
       "    }\n",
       "\n",
       "    .dataframe thead th {\n",
       "        text-align: right;\n",
       "    }\n",
       "</style>\n",
       "<table border=\"1\" class=\"dataframe\">\n",
       "  <thead>\n",
       "    <tr style=\"text-align: right;\">\n",
       "      <th></th>\n",
       "      <th>Webpage_id</th>\n",
       "      <th>Domain</th>\n",
       "      <th>Url</th>\n",
       "      <th>Tag</th>\n",
       "      <th>domain_sub</th>\n",
       "      <th>domain_main</th>\n",
       "      <th>domain_suffix</th>\n",
       "      <th>title_tokens</th>\n",
       "      <th>body_tokens</th>\n",
       "    </tr>\n",
       "  </thead>\n",
       "  <tbody>\n",
       "    <tr>\n",
       "      <th>0</th>\n",
       "      <td>1</td>\n",
       "      <td>www.fiercepharma.com</td>\n",
       "      <td>http://www.fiercepharma.com/marketing/tecfider...</td>\n",
       "      <td>news</td>\n",
       "      <td>www</td>\n",
       "      <td>fiercepharma</td>\n",
       "      <td>com</td>\n",
       "      <td>['tecfidera', 'gilenya', 'aubagio', 'way', 'ba...</td>\n",
       "      <td>['multipl', 'sclerosi', 'drugmak', 'fix', 'day...</td>\n",
       "    </tr>\n",
       "    <tr>\n",
       "      <th>1</th>\n",
       "      <td>2</td>\n",
       "      <td>www.fiercepharma.com</td>\n",
       "      <td>http://www.fiercepharma.com/pharma/novo-equipp...</td>\n",
       "      <td>news</td>\n",
       "      <td>www</td>\n",
       "      <td>fiercepharma</td>\n",
       "      <td>com</td>\n",
       "      <td>['novo', 'equip', 'weather', 'storm', 'diabet'...</td>\n",
       "      <td>['novo', 'nordisk', 'face', 'futur', 'price', ...</td>\n",
       "    </tr>\n",
       "    <tr>\n",
       "      <th>2</th>\n",
       "      <td>3</td>\n",
       "      <td>www.fiercepharma.com</td>\n",
       "      <td>http://www.fiercepharma.com/pharma/another-exe...</td>\n",
       "      <td>news</td>\n",
       "      <td>www</td>\n",
       "      <td>fiercepharma</td>\n",
       "      <td>com</td>\n",
       "      <td>['anoth', 'exec', 'depart', 'troubl', 'endo', ...</td>\n",
       "      <td>['thursday', 'dublin', 'compani', 'announc', '...</td>\n",
       "    </tr>\n",
       "    <tr>\n",
       "      <th>3</th>\n",
       "      <td>4</td>\n",
       "      <td>www.fiercepharma.com</td>\n",
       "      <td>http://www.fiercepharma.com/pharma/teva-buy-bi...</td>\n",
       "      <td>news</td>\n",
       "      <td>www</td>\n",
       "      <td>fiercepharma</td>\n",
       "      <td>com</td>\n",
       "      <td>['would', 'teva', 'buy', 'korea', 'celltrion',...</td>\n",
       "      <td>['earlier', 'month', 'teva', 'agre', 'pick', '...</td>\n",
       "    </tr>\n",
       "    <tr>\n",
       "      <th>4</th>\n",
       "      <td>5</td>\n",
       "      <td>www.fiercepharma.com</td>\n",
       "      <td>http://www.fiercepharma.com/marketing/actress-...</td>\n",
       "      <td>news</td>\n",
       "      <td>www</td>\n",
       "      <td>fiercepharma</td>\n",
       "      <td>com</td>\n",
       "      <td>['restasi', 'maker', 'allergan', 'recruit', 'a...</td>\n",
       "      <td>['oscar', 'best', 'dri', 'eye', 'awar', 'perfo...</td>\n",
       "    </tr>\n",
       "  </tbody>\n",
       "</table>\n",
       "</div>"
      ],
      "text/plain": [
       "   Webpage_id                Domain  \\\n",
       "0           1  www.fiercepharma.com   \n",
       "1           2  www.fiercepharma.com   \n",
       "2           3  www.fiercepharma.com   \n",
       "3           4  www.fiercepharma.com   \n",
       "4           5  www.fiercepharma.com   \n",
       "\n",
       "                                                 Url   Tag domain_sub  \\\n",
       "0  http://www.fiercepharma.com/marketing/tecfider...  news        www   \n",
       "1  http://www.fiercepharma.com/pharma/novo-equipp...  news        www   \n",
       "2  http://www.fiercepharma.com/pharma/another-exe...  news        www   \n",
       "3  http://www.fiercepharma.com/pharma/teva-buy-bi...  news        www   \n",
       "4  http://www.fiercepharma.com/marketing/actress-...  news        www   \n",
       "\n",
       "    domain_main domain_suffix  \\\n",
       "0  fiercepharma           com   \n",
       "1  fiercepharma           com   \n",
       "2  fiercepharma           com   \n",
       "3  fiercepharma           com   \n",
       "4  fiercepharma           com   \n",
       "\n",
       "                                        title_tokens  \\\n",
       "0  ['tecfidera', 'gilenya', 'aubagio', 'way', 'ba...   \n",
       "1  ['novo', 'equip', 'weather', 'storm', 'diabet'...   \n",
       "2  ['anoth', 'exec', 'depart', 'troubl', 'endo', ...   \n",
       "3  ['would', 'teva', 'buy', 'korea', 'celltrion',...   \n",
       "4  ['restasi', 'maker', 'allergan', 'recruit', 'a...   \n",
       "\n",
       "                                         body_tokens  \n",
       "0  ['multipl', 'sclerosi', 'drugmak', 'fix', 'day...  \n",
       "1  ['novo', 'nordisk', 'face', 'futur', 'price', ...  \n",
       "2  ['thursday', 'dublin', 'compani', 'announc', '...  \n",
       "3  ['earlier', 'month', 'teva', 'agre', 'pick', '...  \n",
       "4  ['oscar', 'best', 'dri', 'eye', 'awar', 'perfo...  "
      ]
     },
     "execution_count": 3,
     "metadata": {},
     "output_type": "execute_result"
    }
   ],
   "source": [
    "train_df_no_html.head()"
   ]
  },
  {
   "cell_type": "code",
   "execution_count": 4,
   "metadata": {},
   "outputs": [],
   "source": [
    "train_df_no_html.to_csv(data_dir+'train_with_tokens_no_html.csv',index=False)"
   ]
  }
 ],
 "metadata": {
  "kernelspec": {
   "display_name": "Python 3",
   "language": "python",
   "name": "python3"
  },
  "language_info": {
   "codemirror_mode": {
    "name": "ipython",
    "version": 3
   },
   "file_extension": ".py",
   "mimetype": "text/x-python",
   "name": "python",
   "nbconvert_exporter": "python",
   "pygments_lexer": "ipython3",
   "version": "3.6.6"
  }
 },
 "nbformat": 4,
 "nbformat_minor": 2
}
