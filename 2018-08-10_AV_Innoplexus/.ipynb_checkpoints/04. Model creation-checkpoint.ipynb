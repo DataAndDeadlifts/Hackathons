{
 "cells": [
  {
   "cell_type": "markdown",
   "metadata": {},
   "source": [
    "# Model creation & selection\n",
    "\n",
    "Now we can look at what kind of model predicts our classes the best.\n",
    "\n",
    "First I'm going to use TPOT to search the possible options and give me a good starting option."
   ]
  },
  {
   "cell_type": "code",
   "execution_count": 4,
   "metadata": {},
   "outputs": [],
   "source": [
    "import pandas as pd\n",
    "\n",
    "data_dir = \"../data/2018-08-10_AV_Innoplexus/\"\n",
    "\n",
    "train_df = pd.read_csv(data_dir+\"train_df_tfidf.csv\")"
   ]
  },
  {
   "cell_type": "code",
   "execution_count": 15,
   "metadata": {},
   "outputs": [
    {
     "data": {
      "text/plain": [
       "{'clinicalTrials': 0,\n",
       " 'conferences': 1,\n",
       " 'forum': 2,\n",
       " 'guidelines': 3,\n",
       " 'news': 4,\n",
       " 'others': 5,\n",
       " 'profile': 6,\n",
       " 'publication': 7,\n",
       " 'thesis': 8}"
      ]
     },
     "execution_count": 15,
     "metadata": {},
     "output_type": "execute_result"
    }
   ],
   "source": [
    "#Encode Tag\n",
    "tags = train_df['Tag'].unique().tolist()\n",
    "tags.sort()\n",
    "\n",
    "tag_dict = {key: value for (key, value) in zip(tags,range(len(tags)))}\n",
    "tag_dict"
   ]
  },
  {
   "cell_type": "code",
   "execution_count": 21,
   "metadata": {},
   "outputs": [],
   "source": [
    "train_df['Tag_encoded'] = train_df['Tag'].map(tag_dict)\n",
    "train_df_encoded = train_df.drop('Tag',axis=1)"
   ]
  },
  {
   "cell_type": "code",
   "execution_count": 26,
   "metadata": {},
   "outputs": [],
   "source": [
    "from sklearn.model_selection import train_test_split\n",
    "\n",
    "xcols = [x for x in train_df_encoded if x != 'Tag_encoded']\n",
    "\n",
    "X_train, X_test, y_train, y_test = train_test_split(\n",
    "    train_df_encoded[xcols], train_df_encoded['Tag_encoded'], \n",
    "    test_size=0.33, random_state=27\n",
    ")"
   ]
  },
  {
   "cell_type": "code",
   "execution_count": 37,
   "metadata": {},
   "outputs": [
    {
     "name": "stdout",
     "output_type": "stream",
     "text": [
      "True\n"
     ]
    }
   ],
   "source": [
    "from tpot import TPOTClassifier\n",
    "import os\n",
    "print(os.path.exists(\"./TPOT_gens\"))\n",
    "mingw_path = 'C:\\\\Program Files\\\\mingw-w64\\\\x86_64-8.1.0-posix-seh-rt_v6-rev0\\\\mingw64\\\\bin'\n",
    "\n",
    "os.environ['PATH'] = mingw_path + ';' + os.environ['PATH']\n",
    "import xgboost\n",
    "\n",
    "tpot_class = TPOTClassifier(scoring='f1', periodic_checkpoint_folder=\"./TPOT_gens\", verbosity=2)"
   ]
  },
  {
   "cell_type": "code",
   "execution_count": null,
   "metadata": {},
   "outputs": [
    {
     "name": "stderr",
     "output_type": "stream",
     "text": [
      "\r",
      "Optimization Progress:   0%|          | 0/10100 [00:00<?, ?pipeline/s]"
     ]
    }
   ],
   "source": [
    "tpot_class.fit(X_train, y_train)"
   ]
  },
  {
   "cell_type": "code",
   "execution_count": null,
   "metadata": {},
   "outputs": [],
   "source": [
    "print(tpot_class.score(x_test, y_test))"
   ]
  },
  {
   "cell_type": "code",
   "execution_count": null,
   "metadata": {},
   "outputs": [],
   "source": [
    "tpot_class.export('tpot_innoplexus_pipeline.py')"
   ]
  },
  {
   "cell_type": "code",
   "execution_count": null,
   "metadata": {},
   "outputs": [],
   "source": []
  }
 ],
 "metadata": {
  "kernelspec": {
   "display_name": "Python 3",
   "language": "python",
   "name": "python3"
  },
  "language_info": {
   "codemirror_mode": {
    "name": "ipython",
    "version": 3
   },
   "file_extension": ".py",
   "mimetype": "text/x-python",
   "name": "python",
   "nbconvert_exporter": "python",
   "pygments_lexer": "ipython3",
   "version": "3.6.6"
  }
 },
 "nbformat": 4,
 "nbformat_minor": 2
}
